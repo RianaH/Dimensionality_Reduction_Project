{
 "cells": [
  {
   "cell_type": "markdown",
   "id": "d5a19508",
   "metadata": {},
   "source": [
    "# Principal Component Analysis (PCA)"
   ]
  },
  {
   "cell_type": "code",
   "execution_count": null,
   "id": "b89d3e13",
   "metadata": {},
   "outputs": [],
   "source": [
    "import torch"
   ]
  },
  {
   "cell_type": "markdown",
   "id": "0e8ff9ee",
   "metadata": {},
   "source": [
    "## Synthetic Dataset Creation"
   ]
  },
  {
   "cell_type": "code",
   "execution_count": null,
   "id": "1fe9010d",
   "metadata": {},
   "outputs": [],
   "source": [
    "# Simulate a dataset to perform PCA on\n",
    "\n",
    "# Fix a random seed for reproducibility\n",
    "torch.manual_seed(42)\n",
    "\n",
    "# Specify the size of the simulated dataset\n",
    "num_features = 50  # Number of features\n",
    "num_samples = 200  # Number of samples\n",
    "rank_latent_factors = 10  # Rank for the latent factors\n",
    "\n",
    "# Generate random matrices for features and samples\n",
    "feature_matrix = torch.randn(num_features, rank_latent_factors)\n",
    "sample_matrix = torch.randn(num_samples, rank_latent_factors)\n",
    "\n",
    "# Create the dataset by multiplying sample matrix and feature matrix transpose, and add some noise\n",
    "dataset = sample_matrix @ feature_matrix.T + 0.01 * torch.randn(num_samples, num_features)\n",
    "\n",
    "# Zero center the data by subtracting the mean of each feature\n",
    "dataset -= dataset.mean(0, keepdims=True)"
   ]
  },
  {
   "cell_type": "markdown",
   "id": "5aedc9fe",
   "metadata": {},
   "source": [
    "## Perform PCA - Compute the Best Rank 10 Subspace Approximation"
   ]
  },
  {
   "cell_type": "code",
   "execution_count": null,
   "id": "18fa49bd",
   "metadata": {},
   "outputs": [],
   "source": [
    "# Compute the covariance matrix of the centered data\n",
    "cov_matrix = (1/num_samples) * dataset.T @ dataset\n",
    "\n",
    "# Perform eigen decomposition on the covariance matrix\n",
    "eigenvalues, eigenvectors = torch.linalg.eigh(cov_matrix)\n",
    "\n",
    "# Sort the eigenvalues and corresponding eigenvectors in descending order\n",
    "sorted_indices = torch.argsort(eigenvalues, descending=True)\n",
    "sorted_eigenvectors = eigenvectors[:, sorted_indices]\n",
    "\n",
    "# Select the top 10 eigenvectors to form the basis for the rank-10 subspace\n",
    "top_10_eigenvectors = sorted_eigenvectors[:, :10]"
   ]
  }
 ],
 "metadata": {
  "kernelspec": {
   "display_name": "Python 3 (ipykernel)",
   "language": "python",
   "name": "python3"
  },
  "language_info": {
   "codemirror_mode": {
    "name": "ipython",
    "version": 3
   },
   "file_extension": ".py",
   "mimetype": "text/x-python",
   "name": "python",
   "nbconvert_exporter": "python",
   "pygments_lexer": "ipython3",
   "version": "3.9.7"
  }
 },
 "nbformat": 4,
 "nbformat_minor": 5
}
